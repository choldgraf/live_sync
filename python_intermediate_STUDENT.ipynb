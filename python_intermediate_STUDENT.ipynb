{
 "cells": [
  {
   "cell_type": "markdown",
   "metadata": {},
   "source": [
    "# Errors in python"
   ]
  },
  {
   "cell_type": "code",
   "execution_count": null,
   "metadata": {
    "tags": [
     "hide"
    ]
   },
   "outputs": [],
   "source": []
  },
  {
   "cell_type": "markdown",
   "metadata": {},
   "source": [
    "## Long tracebacks"
   ]
  },
  {
   "cell_type": "code",
   "execution_count": null,
   "metadata": {},
   "outputs": [],
   "source": []
  },
  {
   "cell_type": "markdown",
   "metadata": {},
   "source": [
    "## Syntax Errors (`SyntaxError`)"
   ]
  },
  {
   "cell_type": "code",
   "execution_count": null,
   "metadata": {},
   "outputs": [],
   "source": []
  },
  {
   "cell_type": "markdown",
   "metadata": {},
   "source": [
    "### A note on tabs/spaces"
   ]
  },
  {
   "cell_type": "code",
   "execution_count": null,
   "metadata": {},
   "outputs": [],
   "source": []
  },
  {
   "cell_type": "markdown",
   "metadata": {},
   "source": [
    "## Variable Name errors (`NameError`)"
   ]
  },
  {
   "cell_type": "code",
   "execution_count": null,
   "metadata": {},
   "outputs": [],
   "source": [
    "print(somevariable)"
   ]
  },
  {
   "cell_type": "code",
   "execution_count": null,
   "metadata": {},
   "outputs": [],
   "source": [
    "# Put quotes around strings!\n",
    "mystring = holdgraf"
   ]
  },
  {
   "cell_type": "code",
   "execution_count": null,
   "metadata": {},
   "outputs": [],
   "source": [
    "# Initialize a variable!\n",
    "for ii in range(10):\n",
    "    count = count + ii"
   ]
  },
  {
   "cell_type": "code",
   "execution_count": null,
   "metadata": {},
   "outputs": [],
   "source": [
    "pizza = 'awesome'\n",
    "print('Pizza is totally ', pizzza)"
   ]
  },
  {
   "cell_type": "markdown",
   "metadata": {},
   "source": [
    "## Index Errors (`IndexError`)"
   ]
  },
  {
   "cell_type": "code",
   "execution_count": null,
   "metadata": {},
   "outputs": [],
   "source": [
    "letters = ['a', 'b', 'c']\n",
    "print(\"Letter #1 is\", letters[0])\n",
    "print(\"Letter #2 is\", letters[1])\n",
    "print(\"Letter #3 is\", letters[2])\n",
    "print(\"Letter #4 is\", letters[3])"
   ]
  },
  {
   "cell_type": "code",
   "execution_count": null,
   "metadata": {},
   "outputs": [],
   "source": [
    "letters[100]"
   ]
  },
  {
   "cell_type": "markdown",
   "metadata": {},
   "source": [
    "## File Errors (`FileNotFoundError`, `IOError`, etc)"
   ]
  },
  {
   "cell_type": "code",
   "execution_count": null,
   "metadata": {},
   "outputs": [],
   "source": [
    "file_handle = open('myfile.txt', 'r')"
   ]
  },
  {
   "cell_type": "markdown",
   "metadata": {},
   "source": [
    "## Errors in packages / googling errors"
   ]
  },
  {
   "cell_type": "code",
   "execution_count": null,
   "metadata": {},
   "outputs": [],
   "source": [
    "import numpy as np\n",
    "np.array(['a', 2], dtype=int)"
   ]
  },
  {
   "cell_type": "markdown",
   "metadata": {},
   "source": [
    "# Exercise 1\n",
    "## http://pad.software-carpentry.org/2017-11-09-sfn"
   ]
  },
  {
   "cell_type": "markdown",
   "metadata": {},
   "source": [
    "# Defensive programming"
   ]
  },
  {
   "cell_type": "markdown",
   "metadata": {},
   "source": [
    "## Assertions"
   ]
  },
  {
   "cell_type": "code",
   "execution_count": null,
   "metadata": {},
   "outputs": [],
   "source": [
    "numbers = [1.5, 2.3, 0.7, -0.001, 4.4]\n",
    "total = 0.0\n",
    "for n in numbers:\n",
    "    assert n > 0.0, 'Data should only contain positive values'\n",
    "    total += n\n",
    "print('total is:', total)"
   ]
  },
  {
   "cell_type": "markdown",
   "metadata": {},
   "source": [
    "## Preconditions, postconditions, invariants"
   ]
  },
  {
   "cell_type": "code",
   "execution_count": null,
   "metadata": {},
   "outputs": [],
   "source": [
    "def normalize_rectangle(rect):\n",
    "    '''Normalizes a rectangle so that it is at the origin and 1.0 units long on its longest axis.\n",
    "    Input should be of the format (x0, y0, x1, y1). \n",
    "    (x0, y0) and (x1, y1) define the lower left and upper right corners of the rectangle, respectively.'''\n",
    "    # PRECONDITION\n",
    "    assert len(rect) == 4, 'Rectangles must contain 4 coordinates'\n",
    "    x0, y0, x1, y1 = rect\n",
    "    assert x0 < x1, 'Invalid X coordinates'\n",
    "    assert y0 < y1, 'Invalid Y coordinates'\n",
    "\n",
    "    # ADD THIS FIRST\n",
    "    width = x1 - x0\n",
    "    height = y1 - y0\n",
    "    if dx > dy:\n",
    "        scaled = float(width) / height\n",
    "        upper_x, upper_y = 1.0, scaled\n",
    "    else:\n",
    "        scaled = float(width) / height\n",
    "        upper_x, upper_y = scaled, 1.0\n",
    "\n",
    "    # POST CONDITION\n",
    "    assert 0 < upper_x <= 1.0, 'Calculated upper X coordinate invalid'\n",
    "    assert 0 < upper_y <= 1.0, 'Calculated upper Y coordinate invalid'\n",
    "\n",
    "    return (0, 0, upper_x, upper_y)\n"
   ]
  },
  {
   "cell_type": "code",
   "execution_count": null,
   "metadata": {},
   "outputs": [],
   "source": [
    "normalize_rectangle([1, 0, 4, 5])"
   ]
  },
  {
   "cell_type": "code",
   "execution_count": null,
   "metadata": {},
   "outputs": [],
   "source": [
    "# TRIGGER PRECONDITION\n",
    "normalize_rectangle( (0.0, 1.0, 2.0) ) # missing the fourth coordinate\n",
    "print(normalize_rectangle( (4.0, 2.0, 1.0, 5.0) )) # X axis inverted\n"
   ]
  },
  {
   "cell_type": "code",
   "execution_count": null,
   "metadata": {},
   "outputs": [],
   "source": [
    "# TRIGGER POSTCONDITION\n",
    "normalize_rectangle([0, 0, 2, 1])"
   ]
  },
  {
   "cell_type": "markdown",
   "metadata": {},
   "source": [
    "# EXERCISE 2\n",
    "Suppose you are writing a function called average that calculates the average of the numbers in a list. What pre-conditions and post-conditions would you write for it? Compare your answer to your neighbor’s: can you think of a function that will pass your tests but not his/hers or vice versa?"
   ]
  },
  {
   "cell_type": "markdown",
   "metadata": {},
   "source": [
    "# Test-driven development\n",
    "Line overlap!\n",
    "![](http://swcarpentry.github.io/python-novice-inflammation/fig/python-overlapping-ranges.svg)"
   ]
  },
  {
   "cell_type": "code",
   "execution_count": null,
   "metadata": {},
   "outputs": [],
   "source": [
    "# These are the tests we want to pass\n",
    "assert range_overlap([ (0.0, 1.0) ]) == (0.0, 1.0)\n",
    "assert range_overlap([ (2.0, 3.0), (2.0, 4.0) ]) == (2.0, 3.0)\n",
    "assert range_overlap([ (0.0, 1.0), (0.0, 2.0), (-1.0, 1.0) ]) == (0.0, 1.0)"
   ]
  },
  {
   "cell_type": "code",
   "execution_count": null,
   "metadata": {},
   "outputs": [],
   "source": [
    "# What about the case of no overlap?!\n",
    "assert range_overlap([ (0.0, 1.0), (5.0, 6.0) ]) == ???"
   ]
  },
  {
   "cell_type": "code",
   "execution_count": null,
   "metadata": {},
   "outputs": [],
   "source": [
    "# What about just touching?\n",
    "assert range_overlap([ (0.0, 1.0), (1.0, 2.0) ]) == ???\n"
   ]
  },
  {
   "cell_type": "code",
   "execution_count": null,
   "metadata": {},
   "outputs": [],
   "source": [
    "# We'll catch these with\n",
    "assert range_overlap([ (0.0, 1.0), (5.0, 6.0) ]) == None\n",
    "assert range_overlap([ (0.0, 1.0), (1.0, 2.0) ]) == None\n"
   ]
  },
  {
   "cell_type": "markdown",
   "metadata": {},
   "source": [
    "## Now let's create our function"
   ]
  },
  {
   "cell_type": "code",
   "execution_count": null,
   "metadata": {},
   "outputs": [],
   "source": [
    "def range_overlap(ranges):\n",
    "    '''Return common overlap among a set of [low, high] ranges.'''\n",
    "    lowest = 0.0\n",
    "    highest = 1.0\n",
    "    for (low, high) in ranges:\n",
    "        lowest = max(lowest, low)\n",
    "        highest = min(highest, high)\n",
    "    return (lowest, highest)\n"
   ]
  },
  {
   "cell_type": "code",
   "execution_count": null,
   "metadata": {},
   "outputs": [],
   "source": [
    "def test_range_overlap():\n",
    "    assert range_overlap([ (0.0, 1.0), (5.0, 6.0) ]) == None\n",
    "    assert range_overlap([ (0.0, 1.0), (1.0, 2.0) ]) == None\n",
    "    assert range_overlap([ (0.0, 1.0) ]) == (0.0, 1.0)\n",
    "    assert range_overlap([ (2.0, 3.0), (2.0, 4.0) ]) == (2.0, 3.0)\n",
    "    assert range_overlap([ (0.0, 1.0), (0.0, 2.0), (-1.0, 1.0) ]) == (0.0, 1.0)\n"
   ]
  },
  {
   "cell_type": "code",
   "execution_count": null,
   "metadata": {},
   "outputs": [],
   "source": [
    "test_range_overlap()"
   ]
  },
  {
   "cell_type": "markdown",
   "metadata": {},
   "source": [
    "## EXERCISE 3\n",
    "\n",
    "## http://pad.software-carpentry.org/2017-11-09-sfn"
   ]
  },
  {
   "cell_type": "markdown",
   "metadata": {},
   "source": [
    "# Debugging best practices\n",
    "\n",
    "* Know What It’s Supposed to Do\n",
    "* Make It Fail Every Time\n",
    "* Make It Fail Quickly\n",
    "* Change One Thing at a Time, For a Reason\n",
    "* Keep Track of What You’ve Done\n",
    "* Be Humble (ask for help!)"
   ]
  },
  {
   "cell_type": "markdown",
   "metadata": {},
   "source": [
    "## Exercise 4"
   ]
  },
  {
   "cell_type": "markdown",
   "metadata": {},
   "source": [
    "## http://pad.software-carpentry.org/2017-11-09-sfn"
   ]
  },
  {
   "cell_type": "code",
   "execution_count": null,
   "metadata": {},
   "outputs": [],
   "source": []
  }
 ],
 "metadata": {
  "kernelspec": {
   "display_name": "Python 3",
   "language": "python",
   "name": "python3"
  },
  "language_info": {
   "codemirror_mode": {
    "name": "ipython",
    "version": 3
   },
   "file_extension": ".py",
   "mimetype": "text/x-python",
   "name": "python",
   "nbconvert_exporter": "python",
   "pygments_lexer": "ipython3",
   "version": "3.6.2"
  }
 },
 "nbformat": 4,
 "nbformat_minor": 2
}
